{
 "cells": [
  {
   "cell_type": "code",
   "execution_count": 1,
   "id": "a9d3de9a",
   "metadata": {},
   "outputs": [],
   "source": [
    "%matplotlib inline\n",
    "import matplotlib.pyplot as plt\n",
    "import numpy as np\n",
    "import pandas as pd\n",
    "import seaborn as sns\n",
    "planets = pd.read_csv('../data/planets.csv')"
   ]
  },
  {
   "cell_type": "code",
   "execution_count": 2,
   "id": "c7d3c270",
   "metadata": {},
   "outputs": [],
   "source": [
    "from sklearn.linear_model import LogisticRegression\n",
    "from sklearn.model_selection import train_test_split\n",
    "from sklearn.metrics import classification_report\n",
    "from ml_utils.classification import plot_roc\n",
    "from ml_utils.classification import confusion_matrix_visual"
   ]
  },
  {
   "cell_type": "markdown",
   "id": "0e434ca3",
   "metadata": {},
   "source": [
    "Ознакомление с данными"
   ]
  },
  {
   "cell_type": "code",
   "execution_count": 3,
   "id": "39d08414",
   "metadata": {},
   "outputs": [
    {
     "data": {
      "text/html": [
       "<div>\n",
       "<style scoped>\n",
       "    .dataframe tbody tr th:only-of-type {\n",
       "        vertical-align: middle;\n",
       "    }\n",
       "\n",
       "    .dataframe tbody tr th {\n",
       "        vertical-align: top;\n",
       "    }\n",
       "\n",
       "    .dataframe thead th {\n",
       "        text-align: right;\n",
       "    }\n",
       "</style>\n",
       "<table border=\"1\" class=\"dataframe\">\n",
       "  <thead>\n",
       "    <tr style=\"text-align: right;\">\n",
       "      <th></th>\n",
       "      <th>mass</th>\n",
       "      <th>description</th>\n",
       "      <th>periastrontime</th>\n",
       "      <th>semimajoraxis</th>\n",
       "      <th>discoveryyear</th>\n",
       "      <th>list</th>\n",
       "      <th>eccentricity</th>\n",
       "      <th>period</th>\n",
       "      <th>discoverymethod</th>\n",
       "      <th>lastupdate</th>\n",
       "      <th>periastron</th>\n",
       "      <th>name</th>\n",
       "    </tr>\n",
       "  </thead>\n",
       "  <tbody>\n",
       "    <tr>\n",
       "      <th>0</th>\n",
       "      <td>19.4000</td>\n",
       "      <td>11 Com b is a brown dwarf-mass companion to th...</td>\n",
       "      <td>2452899.60</td>\n",
       "      <td>1.29000</td>\n",
       "      <td>2008.0</td>\n",
       "      <td>Confirmed planets</td>\n",
       "      <td>0.231</td>\n",
       "      <td>326.030000</td>\n",
       "      <td>RV</td>\n",
       "      <td>15/09/20</td>\n",
       "      <td>94.800</td>\n",
       "      <td>11 Com b</td>\n",
       "    </tr>\n",
       "    <tr>\n",
       "      <th>1</th>\n",
       "      <td>11.2000</td>\n",
       "      <td>11 Ursae Minoris is a star located in the cons...</td>\n",
       "      <td>2452861.04</td>\n",
       "      <td>1.54000</td>\n",
       "      <td>2009.0</td>\n",
       "      <td>Confirmed planets</td>\n",
       "      <td>0.080</td>\n",
       "      <td>516.220000</td>\n",
       "      <td>RV</td>\n",
       "      <td>15/09/20</td>\n",
       "      <td>117.630</td>\n",
       "      <td>11 UMi b</td>\n",
       "    </tr>\n",
       "    <tr>\n",
       "      <th>2</th>\n",
       "      <td>4.8000</td>\n",
       "      <td>14 Andromedae is an evolved star in the conste...</td>\n",
       "      <td>2452861.40</td>\n",
       "      <td>0.83000</td>\n",
       "      <td>2008.0</td>\n",
       "      <td>Confirmed planets</td>\n",
       "      <td>0.000</td>\n",
       "      <td>185.840000</td>\n",
       "      <td>RV</td>\n",
       "      <td>15/09/20</td>\n",
       "      <td>0.000</td>\n",
       "      <td>14 And b</td>\n",
       "    </tr>\n",
       "    <tr>\n",
       "      <th>3</th>\n",
       "      <td>4.9750</td>\n",
       "      <td>The star 14 Herculis is only 59 light years aw...</td>\n",
       "      <td>NaN</td>\n",
       "      <td>2.86400</td>\n",
       "      <td>2002.0</td>\n",
       "      <td>Confirmed planets</td>\n",
       "      <td>0.359</td>\n",
       "      <td>1766.000000</td>\n",
       "      <td>RV</td>\n",
       "      <td>15/09/21</td>\n",
       "      <td>22.230</td>\n",
       "      <td>14 Her b</td>\n",
       "    </tr>\n",
       "    <tr>\n",
       "      <th>4</th>\n",
       "      <td>7.6790</td>\n",
       "      <td>14 Her c is the second companion in the system...</td>\n",
       "      <td>NaN</td>\n",
       "      <td>9.03700</td>\n",
       "      <td>2006.0</td>\n",
       "      <td>Controversial</td>\n",
       "      <td>0.184</td>\n",
       "      <td>9886.000000</td>\n",
       "      <td>RV</td>\n",
       "      <td>15/09/21</td>\n",
       "      <td>189.076</td>\n",
       "      <td>14 Her c</td>\n",
       "    </tr>\n",
       "    <tr>\n",
       "      <th>...</th>\n",
       "      <td>...</td>\n",
       "      <td>...</td>\n",
       "      <td>...</td>\n",
       "      <td>...</td>\n",
       "      <td>...</td>\n",
       "      <td>...</td>\n",
       "      <td>...</td>\n",
       "      <td>...</td>\n",
       "      <td>...</td>\n",
       "      <td>...</td>\n",
       "      <td>...</td>\n",
       "      <td>...</td>\n",
       "    </tr>\n",
       "    <tr>\n",
       "      <th>4089</th>\n",
       "      <td>1.9000</td>\n",
       "      <td>Data for this planet was imported from the exo...</td>\n",
       "      <td>NaN</td>\n",
       "      <td>0.08150</td>\n",
       "      <td>2016.0</td>\n",
       "      <td>Confirmed planets</td>\n",
       "      <td>0.000</td>\n",
       "      <td>3.765001</td>\n",
       "      <td>NaN</td>\n",
       "      <td>16/12/09</td>\n",
       "      <td>NaN</td>\n",
       "      <td>XO-6 b</td>\n",
       "    </tr>\n",
       "    <tr>\n",
       "      <th>4090</th>\n",
       "      <td>0.7090</td>\n",
       "      <td>This planet was discovered by Crouzet et al. 2...</td>\n",
       "      <td>NaN</td>\n",
       "      <td>0.04421</td>\n",
       "      <td>2019.0</td>\n",
       "      <td>Confirmed planets</td>\n",
       "      <td>0.038</td>\n",
       "      <td>2.864142</td>\n",
       "      <td>transit</td>\n",
       "      <td>20/01/16</td>\n",
       "      <td>NaN</td>\n",
       "      <td>XO-7 b</td>\n",
       "    </tr>\n",
       "    <tr>\n",
       "      <th>4091</th>\n",
       "      <td>0.3334</td>\n",
       "      <td>The star YBP1194 is one of the best solar twin...</td>\n",
       "      <td>2455679.90</td>\n",
       "      <td>NaN</td>\n",
       "      <td>2014.0</td>\n",
       "      <td>Confirmed planets</td>\n",
       "      <td>0.310</td>\n",
       "      <td>6.960000</td>\n",
       "      <td>RV</td>\n",
       "      <td>18/03/23</td>\n",
       "      <td>109.160</td>\n",
       "      <td>YBP1194 b</td>\n",
       "    </tr>\n",
       "    <tr>\n",
       "      <th>4092</th>\n",
       "      <td>0.4000</td>\n",
       "      <td>YBP1514 is a main sequence star in the open st...</td>\n",
       "      <td>2455986.30</td>\n",
       "      <td>NaN</td>\n",
       "      <td>2014.0</td>\n",
       "      <td>Confirmed planets</td>\n",
       "      <td>0.270</td>\n",
       "      <td>5.118000</td>\n",
       "      <td>RV</td>\n",
       "      <td>18/03/23</td>\n",
       "      <td>328.580</td>\n",
       "      <td>YBP1514 b</td>\n",
       "    </tr>\n",
       "    <tr>\n",
       "      <th>4093</th>\n",
       "      <td>0.4200</td>\n",
       "      <td>YBP401 b is a hot Jupiter in an eccentric orbi...</td>\n",
       "      <td>2456072.40</td>\n",
       "      <td>NaN</td>\n",
       "      <td>2016.0</td>\n",
       "      <td>Confirmed planets</td>\n",
       "      <td>0.160</td>\n",
       "      <td>4.087000</td>\n",
       "      <td>RV</td>\n",
       "      <td>18/03/23</td>\n",
       "      <td>343.330</td>\n",
       "      <td>YBP401 b</td>\n",
       "    </tr>\n",
       "  </tbody>\n",
       "</table>\n",
       "<p>4094 rows × 12 columns</p>\n",
       "</div>"
      ],
      "text/plain": [
       "         mass                                        description  \\\n",
       "0     19.4000  11 Com b is a brown dwarf-mass companion to th...   \n",
       "1     11.2000  11 Ursae Minoris is a star located in the cons...   \n",
       "2      4.8000  14 Andromedae is an evolved star in the conste...   \n",
       "3      4.9750  The star 14 Herculis is only 59 light years aw...   \n",
       "4      7.6790  14 Her c is the second companion in the system...   \n",
       "...       ...                                                ...   \n",
       "4089   1.9000  Data for this planet was imported from the exo...   \n",
       "4090   0.7090  This planet was discovered by Crouzet et al. 2...   \n",
       "4091   0.3334  The star YBP1194 is one of the best solar twin...   \n",
       "4092   0.4000  YBP1514 is a main sequence star in the open st...   \n",
       "4093   0.4200  YBP401 b is a hot Jupiter in an eccentric orbi...   \n",
       "\n",
       "      periastrontime  semimajoraxis  discoveryyear               list  \\\n",
       "0         2452899.60        1.29000         2008.0  Confirmed planets   \n",
       "1         2452861.04        1.54000         2009.0  Confirmed planets   \n",
       "2         2452861.40        0.83000         2008.0  Confirmed planets   \n",
       "3                NaN        2.86400         2002.0  Confirmed planets   \n",
       "4                NaN        9.03700         2006.0      Controversial   \n",
       "...              ...            ...            ...                ...   \n",
       "4089             NaN        0.08150         2016.0  Confirmed planets   \n",
       "4090             NaN        0.04421         2019.0  Confirmed planets   \n",
       "4091      2455679.90            NaN         2014.0  Confirmed planets   \n",
       "4092      2455986.30            NaN         2014.0  Confirmed planets   \n",
       "4093      2456072.40            NaN         2016.0  Confirmed planets   \n",
       "\n",
       "      eccentricity       period discoverymethod lastupdate  periastron  \\\n",
       "0            0.231   326.030000              RV   15/09/20      94.800   \n",
       "1            0.080   516.220000              RV   15/09/20     117.630   \n",
       "2            0.000   185.840000              RV   15/09/20       0.000   \n",
       "3            0.359  1766.000000              RV   15/09/21      22.230   \n",
       "4            0.184  9886.000000              RV   15/09/21     189.076   \n",
       "...            ...          ...             ...        ...         ...   \n",
       "4089         0.000     3.765001             NaN   16/12/09         NaN   \n",
       "4090         0.038     2.864142         transit   20/01/16         NaN   \n",
       "4091         0.310     6.960000              RV   18/03/23     109.160   \n",
       "4092         0.270     5.118000              RV   18/03/23     328.580   \n",
       "4093         0.160     4.087000              RV   18/03/23     343.330   \n",
       "\n",
       "           name  \n",
       "0      11 Com b  \n",
       "1      11 UMi b  \n",
       "2      14 And b  \n",
       "3      14 Her b  \n",
       "4      14 Her c  \n",
       "...         ...  \n",
       "4089     XO-6 b  \n",
       "4090     XO-7 b  \n",
       "4091  YBP1194 b  \n",
       "4092  YBP1514 b  \n",
       "4093   YBP401 b  \n",
       "\n",
       "[4094 rows x 12 columns]"
      ]
     },
     "execution_count": 3,
     "metadata": {},
     "output_type": "execute_result"
    }
   ],
   "source": [
    "planets"
   ]
  },
  {
   "cell_type": "code",
   "execution_count": 4,
   "id": "38396631",
   "metadata": {},
   "outputs": [
    {
     "data": {
      "text/plain": [
       "<AxesSubplot:>"
      ]
     },
     "execution_count": 4,
     "metadata": {},
     "output_type": "execute_result"
    },
    {
     "data": {
      "image/png": "[encoded data removed]",
      "text/plain": [
       "<Figure size 1440x720 with 2 Axes>"
      ]
     },
     "metadata": {
      "needs_background": "light"
     },
     "output_type": "display_data"
    }
   ],
   "source": [
    "fig = plt.figure(figsize=(20, 10))\n",
    "sns.heatmap(planets.corr(), center=0, vmin=-1, vmax=1, square=True, annot=True, cbar_kws={'shrink': 0.8}\n",
    ")"
   ]
  },
  {
   "cell_type": "code",
   "execution_count": 5,
   "id": "84371b01",
   "metadata": {},
   "outputs": [
    {
     "data": {
      "text/html": [
       "<div>\n",
       "<style scoped>\n",
       "    .dataframe tbody tr th:only-of-type {\n",
       "        vertical-align: middle;\n",
       "    }\n",
       "\n",
       "    .dataframe tbody tr th {\n",
       "        vertical-align: top;\n",
       "    }\n",
       "\n",
       "    .dataframe thead th {\n",
       "        text-align: right;\n",
       "    }\n",
       "</style>\n",
       "<table border=\"1\" class=\"dataframe\">\n",
       "  <thead>\n",
       "    <tr style=\"text-align: right;\">\n",
       "      <th></th>\n",
       "      <th>semimajoraxis</th>\n",
       "      <th>eccentricity</th>\n",
       "      <th>mass</th>\n",
       "    </tr>\n",
       "  </thead>\n",
       "  <tbody>\n",
       "    <tr>\n",
       "      <th>count</th>\n",
       "      <td>1704.000000</td>\n",
       "      <td>1388.000000</td>\n",
       "      <td>1659.000000</td>\n",
       "    </tr>\n",
       "    <tr>\n",
       "      <th>mean</th>\n",
       "      <td>5.837964</td>\n",
       "      <td>0.159016</td>\n",
       "      <td>2.702061</td>\n",
       "    </tr>\n",
       "    <tr>\n",
       "      <th>std</th>\n",
       "      <td>110.668743</td>\n",
       "      <td>0.185041</td>\n",
       "      <td>8.526177</td>\n",
       "    </tr>\n",
       "    <tr>\n",
       "      <th>min</th>\n",
       "      <td>0.004420</td>\n",
       "      <td>0.000000</td>\n",
       "      <td>0.000008</td>\n",
       "    </tr>\n",
       "    <tr>\n",
       "      <th>25%</th>\n",
       "      <td>0.051575</td>\n",
       "      <td>0.013000</td>\n",
       "      <td>0.085000</td>\n",
       "    </tr>\n",
       "    <tr>\n",
       "      <th>50%</th>\n",
       "      <td>0.140900</td>\n",
       "      <td>0.100000</td>\n",
       "      <td>0.830000</td>\n",
       "    </tr>\n",
       "    <tr>\n",
       "      <th>75%</th>\n",
       "      <td>1.190000</td>\n",
       "      <td>0.230000</td>\n",
       "      <td>2.440000</td>\n",
       "    </tr>\n",
       "    <tr>\n",
       "      <th>max</th>\n",
       "      <td>3500.000000</td>\n",
       "      <td>0.956000</td>\n",
       "      <td>263.000000</td>\n",
       "    </tr>\n",
       "  </tbody>\n",
       "</table>\n",
       "</div>"
      ],
      "text/plain": [
       "       semimajoraxis  eccentricity         mass\n",
       "count    1704.000000   1388.000000  1659.000000\n",
       "mean        5.837964      0.159016     2.702061\n",
       "std       110.668743      0.185041     8.526177\n",
       "min         0.004420      0.000000     0.000008\n",
       "25%         0.051575      0.013000     0.085000\n",
       "50%         0.140900      0.100000     0.830000\n",
       "75%         1.190000      0.230000     2.440000\n",
       "max      3500.000000      0.956000   263.000000"
      ]
     },
     "execution_count": 5,
     "metadata": {},
     "output_type": "execute_result"
    }
   ],
   "source": [
    "planets[['semimajoraxis', 'eccentricity', 'mass']].describe()"
   ]
  },
  {
   "cell_type": "code",
   "execution_count": 6,
   "id": "0d2ee527",
   "metadata": {},
   "outputs": [
    {
     "data": {
      "text/html": [
       "<div>\n",
       "<style scoped>\n",
       "    .dataframe tbody tr th:only-of-type {\n",
       "        vertical-align: middle;\n",
       "    }\n",
       "\n",
       "    .dataframe tbody tr th {\n",
       "        vertical-align: top;\n",
       "    }\n",
       "\n",
       "    .dataframe thead th {\n",
       "        text-align: right;\n",
       "    }\n",
       "</style>\n",
       "<table border=\"1\" class=\"dataframe\">\n",
       "  <thead>\n",
       "    <tr style=\"text-align: right;\">\n",
       "      <th></th>\n",
       "      <th>period</th>\n",
       "    </tr>\n",
       "  </thead>\n",
       "  <tbody>\n",
       "    <tr>\n",
       "      <th>count</th>\n",
       "      <td>3930.000000</td>\n",
       "    </tr>\n",
       "    <tr>\n",
       "      <th>mean</th>\n",
       "      <td>524.084969</td>\n",
       "    </tr>\n",
       "    <tr>\n",
       "      <th>std</th>\n",
       "      <td>7087.428665</td>\n",
       "    </tr>\n",
       "    <tr>\n",
       "      <th>min</th>\n",
       "      <td>0.090706</td>\n",
       "    </tr>\n",
       "    <tr>\n",
       "      <th>25%</th>\n",
       "      <td>4.552475</td>\n",
       "    </tr>\n",
       "    <tr>\n",
       "      <th>50%</th>\n",
       "      <td>12.364638</td>\n",
       "    </tr>\n",
       "    <tr>\n",
       "      <th>75%</th>\n",
       "      <td>46.793136</td>\n",
       "    </tr>\n",
       "    <tr>\n",
       "      <th>max</th>\n",
       "      <td>320000.000000</td>\n",
       "    </tr>\n",
       "  </tbody>\n",
       "</table>\n",
       "</div>"
      ],
      "text/plain": [
       "              period\n",
       "count    3930.000000\n",
       "mean      524.084969\n",
       "std      7087.428665\n",
       "min         0.090706\n",
       "25%         4.552475\n",
       "50%        12.364638\n",
       "75%        46.793136\n",
       "max    320000.000000"
      ]
     },
     "execution_count": 6,
     "metadata": {},
     "output_type": "execute_result"
    }
   ],
   "source": [
    "planets[['period']].describe()"
   ]
  },
  {
   "cell_type": "code",
   "execution_count": 7,
   "id": "aba8ac26",
   "metadata": {},
   "outputs": [
    {
     "data": {
      "text/plain": [
       "True     3481\n",
       "False     613\n",
       "Name: shorter_years, dtype: int64"
      ]
     },
     "execution_count": 7,
     "metadata": {},
     "output_type": "execute_result"
    }
   ],
   "source": [
    "planets['shorter_years'] = planets.period < planets.query('name == \"Earth\"').period.iat[0]\n",
    "planets.shorter_years.value_counts()"
   ]
  },
  {
   "cell_type": "markdown",
   "id": "9e1598fd",
   "metadata": {},
   "source": [
    "Логистическая регрессия"
   ]
  },
  {
   "cell_type": "code",
   "execution_count": 8,
   "id": "f80c3207",
   "metadata": {},
   "outputs": [
    {
     "data": {
      "text/plain": [
       "0.9773462783171522"
      ]
     },
     "execution_count": 8,
     "metadata": {},
     "output_type": "execute_result"
    }
   ],
   "source": [
    "data = planets[['shorter_years', 'semimajoraxis', 'mass', 'eccentricity']].dropna()\n",
    "y = data.pop('shorter_years')\n",
    "X = data\n",
    "\n",
    "X_train, X_test, y_train, y_test = train_test_split(X, y, test_size=0.25, random_state=0, stratify=y)\n",
    "\n",
    "lm = LogisticRegression(random_state=0).fit(X_train, y_train)\n",
    "lm.score(X_test, y_test) "
   ]
  },
  {
   "cell_type": "markdown",
   "id": "242656f9",
   "metadata": {},
   "source": [
    "Прогноз"
   ]
  },
  {
   "cell_type": "code",
   "execution_count": 9,
   "id": "94bb3bbd",
   "metadata": {},
   "outputs": [
    {
     "name": "stdout",
     "output_type": "stream",
     "text": [
      "              precision    recall  f1-score   support\n",
      "\n",
      "       False       0.98      0.95      0.97       103\n",
      "        True       0.98      0.99      0.98       206\n",
      "\n",
      "    accuracy                           0.98       309\n",
      "   macro avg       0.98      0.97      0.97       309\n",
      "weighted avg       0.98      0.98      0.98       309\n",
      "\n"
     ]
    }
   ],
   "source": [
    "preds = lm.predict(X_test)\n",
    "print(classification_report(y_test, preds))"
   ]
  },
  {
   "cell_type": "markdown",
   "id": "dd873d44",
   "metadata": {},
   "source": [
    "Получение показателей производительности"
   ]
  },
  {
   "cell_type": "code",
   "execution_count": 10,
   "id": "3618ed62",
   "metadata": {},
   "outputs": [
    {
     "data": {
      "text/plain": [
       "<AxesSubplot:title={'center':'ROC curve'}, xlabel='False Positive Rate (FPR)', ylabel='True Positive Rate (TPR)'>"
      ]
     },
     "execution_count": 10,
     "metadata": {},
     "output_type": "execute_result"
    },
    {
     "data": {
      "image/png": "[encoded data removed]",
      "text/plain": [
       "<Figure size 432x288 with 1 Axes>"
      ]
     },
     "metadata": {
      "needs_background": "light"
     },
     "output_type": "display_data"
    }
   ],
   "source": [
    "plot_roc(y_test, lm.predict_proba(X_test)[:,1])"
   ]
  },
  {
   "cell_type": "code",
   "execution_count": 11,
   "id": "252a74e4",
   "metadata": {},
   "outputs": [
    {
     "data": {
      "text/plain": [
       "<AxesSubplot:title={'center':'Confusion Matrix'}, xlabel='Actual', ylabel='Model Prediction'>"
      ]
     },
     "execution_count": 11,
     "metadata": {},
     "output_type": "execute_result"
    },
    {
     "data": {
      "image/png": "[encoded data removed]",
      "text/plain": [
       "<Figure size 1080x576 with 2 Axes>"
      ]
     },
     "metadata": {
      "needs_background": "light"
     },
     "output_type": "display_data"
    }
   ],
   "source": [
    "fig = plt.figure(figsize=(15, 8))\n",
    "confusion_matrix_visual(y_test, preds, ['more_or_same', 'lives_less'])"
   ]
  }
 ],
 "metadata": {
  "kernelspec": {
   "display_name": "Python 3 (ipykernel)",
   "language": "python",
   "name": "python3"
  },
  "language_info": {
   "codemirror_mode": {
    "name": "ipython",
    "version": 3
   },
   "file_extension": ".py",
   "mimetype": "text/x-python",
   "name": "python",
   "nbconvert_exporter": "python",
   "pygments_lexer": "ipython3",
   "version": "3.8.13"
  }
 },
 "nbformat": 4,
 "nbformat_minor": 5
}
