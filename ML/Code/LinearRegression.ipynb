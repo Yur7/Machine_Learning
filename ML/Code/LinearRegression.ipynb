{
 "cells": [
  {
   "cell_type": "code",
   "execution_count": 1,
   "id": "aad1d192",
   "metadata": {},
   "outputs": [],
   "source": [
    "%matplotlib inline\n",
    "\n",
    "import matplotlib.pyplot as plt\n",
    "import numpy as np\n",
    "import pandas as pd\n",
    "import seaborn as sns\n",
    "stars = pd.read_csv('../data/stars.csv')"
   ]
  },
  {
   "cell_type": "code",
   "execution_count": 2,
   "id": "f21ad6c9",
   "metadata": {},
   "outputs": [],
   "source": [
    "from sklearn.linear_model import LinearRegression\n",
    "from sklearn.model_selection import train_test_split\n",
    "from sklearn.metrics import mean_squared_error\n",
    "from ml_utils.regression import plot_residuals"
   ]
  },
  {
   "cell_type": "markdown",
   "id": "9cac2f71",
   "metadata": {},
   "source": [
    "Ознакомление с данными"
   ]
  },
  {
   "cell_type": "code",
   "execution_count": 3,
   "id": "cc116234",
   "metadata": {},
   "outputs": [
    {
     "data": {
      "text/html": [
       "<div>\n",
       "<style scoped>\n",
       "    .dataframe tbody tr th:only-of-type {\n",
       "        vertical-align: middle;\n",
       "    }\n",
       "\n",
       "    .dataframe tbody tr th {\n",
       "        vertical-align: top;\n",
       "    }\n",
       "\n",
       "    .dataframe thead th {\n",
       "        text-align: right;\n",
       "    }\n",
       "</style>\n",
       "<table border=\"1\" class=\"dataframe\">\n",
       "  <thead>\n",
       "    <tr style=\"text-align: right;\">\n",
       "      <th></th>\n",
       "      <th>temperature</th>\n",
       "      <th>magV</th>\n",
       "      <th>mass</th>\n",
       "      <th>spectraltype</th>\n",
       "      <th>magJ</th>\n",
       "      <th>radius</th>\n",
       "      <th>magB</th>\n",
       "      <th>magH</th>\n",
       "      <th>magK</th>\n",
       "      <th>metallicity</th>\n",
       "      <th>name</th>\n",
       "      <th>planets</th>\n",
       "    </tr>\n",
       "  </thead>\n",
       "  <tbody>\n",
       "    <tr>\n",
       "      <th>0</th>\n",
       "      <td>4742.0</td>\n",
       "      <td>4.740</td>\n",
       "      <td>2.70</td>\n",
       "      <td>G8 III</td>\n",
       "      <td>2.943</td>\n",
       "      <td>19.000</td>\n",
       "      <td>5.740</td>\n",
       "      <td>2.484</td>\n",
       "      <td>2.282</td>\n",
       "      <td>-0.350</td>\n",
       "      <td>11 Com</td>\n",
       "      <td>1.0</td>\n",
       "    </tr>\n",
       "    <tr>\n",
       "      <th>1</th>\n",
       "      <td>4340.0</td>\n",
       "      <td>5.024</td>\n",
       "      <td>1.80</td>\n",
       "      <td>K4III</td>\n",
       "      <td>2.876</td>\n",
       "      <td>24.080</td>\n",
       "      <td>6.415</td>\n",
       "      <td>2.091</td>\n",
       "      <td>1.939</td>\n",
       "      <td>0.040</td>\n",
       "      <td>11 UMi</td>\n",
       "      <td>1.0</td>\n",
       "    </tr>\n",
       "    <tr>\n",
       "      <th>2</th>\n",
       "      <td>4813.0</td>\n",
       "      <td>5.220</td>\n",
       "      <td>2.20</td>\n",
       "      <td>K0III</td>\n",
       "      <td>3.019</td>\n",
       "      <td>11.000</td>\n",
       "      <td>6.240</td>\n",
       "      <td>2.608</td>\n",
       "      <td>2.331</td>\n",
       "      <td>-0.240</td>\n",
       "      <td>14 And</td>\n",
       "      <td>1.0</td>\n",
       "    </tr>\n",
       "    <tr>\n",
       "      <th>3</th>\n",
       "      <td>5311.0</td>\n",
       "      <td>6.670</td>\n",
       "      <td>1.00</td>\n",
       "      <td>K0 V</td>\n",
       "      <td>5.158</td>\n",
       "      <td>0.708</td>\n",
       "      <td>7.570</td>\n",
       "      <td>4.803</td>\n",
       "      <td>4.714</td>\n",
       "      <td>0.430</td>\n",
       "      <td>14 Her</td>\n",
       "      <td>2.0</td>\n",
       "    </tr>\n",
       "    <tr>\n",
       "      <th>4</th>\n",
       "      <td>5825.0</td>\n",
       "      <td>5.950</td>\n",
       "      <td>1.11</td>\n",
       "      <td>G2V</td>\n",
       "      <td>5.090</td>\n",
       "      <td>1.243</td>\n",
       "      <td>6.590</td>\n",
       "      <td>4.720</td>\n",
       "      <td>4.430</td>\n",
       "      <td>0.096</td>\n",
       "      <td>16 Cygni A</td>\n",
       "      <td>0.0</td>\n",
       "    </tr>\n",
       "    <tr>\n",
       "      <th>...</th>\n",
       "      <td>...</td>\n",
       "      <td>...</td>\n",
       "      <td>...</td>\n",
       "      <td>...</td>\n",
       "      <td>...</td>\n",
       "      <td>...</td>\n",
       "      <td>...</td>\n",
       "      <td>...</td>\n",
       "      <td>...</td>\n",
       "      <td>...</td>\n",
       "      <td>...</td>\n",
       "      <td>...</td>\n",
       "    </tr>\n",
       "    <tr>\n",
       "      <th>3178</th>\n",
       "      <td>6720.0</td>\n",
       "      <td>NaN</td>\n",
       "      <td>1.47</td>\n",
       "      <td>F5</td>\n",
       "      <td>NaN</td>\n",
       "      <td>1.930</td>\n",
       "      <td>NaN</td>\n",
       "      <td>NaN</td>\n",
       "      <td>NaN</td>\n",
       "      <td>-0.070</td>\n",
       "      <td>XO-6</td>\n",
       "      <td>1.0</td>\n",
       "    </tr>\n",
       "    <tr>\n",
       "      <th>3179</th>\n",
       "      <td>6250.0</td>\n",
       "      <td>10.520</td>\n",
       "      <td>1.41</td>\n",
       "      <td>G0V</td>\n",
       "      <td>9.557</td>\n",
       "      <td>1.480</td>\n",
       "      <td>NaN</td>\n",
       "      <td>9.308</td>\n",
       "      <td>9.241</td>\n",
       "      <td>0.432</td>\n",
       "      <td>XO-7</td>\n",
       "      <td>1.0</td>\n",
       "    </tr>\n",
       "    <tr>\n",
       "      <th>3180</th>\n",
       "      <td>5780.0</td>\n",
       "      <td>14.676</td>\n",
       "      <td>1.01</td>\n",
       "      <td>G5V</td>\n",
       "      <td>13.366</td>\n",
       "      <td>0.990</td>\n",
       "      <td>15.280</td>\n",
       "      <td>13.041</td>\n",
       "      <td>12.965</td>\n",
       "      <td>0.023</td>\n",
       "      <td>YBP1194</td>\n",
       "      <td>1.0</td>\n",
       "    </tr>\n",
       "    <tr>\n",
       "      <th>3181</th>\n",
       "      <td>5725.0</td>\n",
       "      <td>14.798</td>\n",
       "      <td>0.96</td>\n",
       "      <td>G5V</td>\n",
       "      <td>13.474</td>\n",
       "      <td>0.890</td>\n",
       "      <td>15.500</td>\n",
       "      <td>13.157</td>\n",
       "      <td>13.105</td>\n",
       "      <td>0.030</td>\n",
       "      <td>YBP1514</td>\n",
       "      <td>1.0</td>\n",
       "    </tr>\n",
       "    <tr>\n",
       "      <th>3182</th>\n",
       "      <td>6165.0</td>\n",
       "      <td>13.723</td>\n",
       "      <td>1.14</td>\n",
       "      <td>F9V</td>\n",
       "      <td>12.638</td>\n",
       "      <td>NaN</td>\n",
       "      <td>14.304</td>\n",
       "      <td>12.376</td>\n",
       "      <td>12.337</td>\n",
       "      <td>0.000</td>\n",
       "      <td>YBP401</td>\n",
       "      <td>1.0</td>\n",
       "    </tr>\n",
       "  </tbody>\n",
       "</table>\n",
       "<p>3183 rows × 12 columns</p>\n",
       "</div>"
      ],
      "text/plain": [
       "      temperature    magV  mass spectraltype    magJ  radius    magB    magH  \\\n",
       "0          4742.0   4.740  2.70       G8 III   2.943  19.000   5.740   2.484   \n",
       "1          4340.0   5.024  1.80        K4III   2.876  24.080   6.415   2.091   \n",
       "2          4813.0   5.220  2.20        K0III   3.019  11.000   6.240   2.608   \n",
       "3          5311.0   6.670  1.00         K0 V   5.158   0.708   7.570   4.803   \n",
       "4          5825.0   5.950  1.11          G2V   5.090   1.243   6.590   4.720   \n",
       "...           ...     ...   ...          ...     ...     ...     ...     ...   \n",
       "3178       6720.0     NaN  1.47           F5     NaN   1.930     NaN     NaN   \n",
       "3179       6250.0  10.520  1.41          G0V   9.557   1.480     NaN   9.308   \n",
       "3180       5780.0  14.676  1.01          G5V  13.366   0.990  15.280  13.041   \n",
       "3181       5725.0  14.798  0.96          G5V  13.474   0.890  15.500  13.157   \n",
       "3182       6165.0  13.723  1.14          F9V  12.638     NaN  14.304  12.376   \n",
       "\n",
       "        magK  metallicity        name  planets  \n",
       "0      2.282       -0.350      11 Com      1.0  \n",
       "1      1.939        0.040      11 UMi      1.0  \n",
       "2      2.331       -0.240      14 And      1.0  \n",
       "3      4.714        0.430      14 Her      2.0  \n",
       "4      4.430        0.096  16 Cygni A      0.0  \n",
       "...      ...          ...         ...      ...  \n",
       "3178     NaN       -0.070        XO-6      1.0  \n",
       "3179   9.241        0.432        XO-7      1.0  \n",
       "3180  12.965        0.023     YBP1194      1.0  \n",
       "3181  13.105        0.030     YBP1514      1.0  \n",
       "3182  12.337        0.000      YBP401      1.0  \n",
       "\n",
       "[3183 rows x 12 columns]"
      ]
     },
     "execution_count": 3,
     "metadata": {},
     "output_type": "execute_result"
    }
   ],
   "source": [
    "stars"
   ]
  },
  {
   "cell_type": "code",
   "execution_count": 4,
   "id": "786f0f9f",
   "metadata": {},
   "outputs": [
    {
     "data": {
      "text/html": [
       "<div>\n",
       "<style scoped>\n",
       "    .dataframe tbody tr th:only-of-type {\n",
       "        vertical-align: middle;\n",
       "    }\n",
       "\n",
       "    .dataframe tbody tr th {\n",
       "        vertical-align: top;\n",
       "    }\n",
       "\n",
       "    .dataframe thead th {\n",
       "        text-align: right;\n",
       "    }\n",
       "</style>\n",
       "<table border=\"1\" class=\"dataframe\">\n",
       "  <thead>\n",
       "    <tr style=\"text-align: right;\">\n",
       "      <th></th>\n",
       "      <th>temperature</th>\n",
       "      <th>magV</th>\n",
       "      <th>mass</th>\n",
       "      <th>magJ</th>\n",
       "      <th>radius</th>\n",
       "      <th>magB</th>\n",
       "      <th>magH</th>\n",
       "      <th>magK</th>\n",
       "      <th>metallicity</th>\n",
       "      <th>planets</th>\n",
       "    </tr>\n",
       "  </thead>\n",
       "  <tbody>\n",
       "    <tr>\n",
       "      <th>count</th>\n",
       "      <td>2793.000000</td>\n",
       "      <td>1274.000000</td>\n",
       "      <td>3090.000000</td>\n",
       "      <td>1563.000000</td>\n",
       "      <td>2721.000000</td>\n",
       "      <td>1003.000000</td>\n",
       "      <td>1556.000000</td>\n",
       "      <td>1585.000000</td>\n",
       "      <td>2411.000000</td>\n",
       "      <td>3183.000000</td>\n",
       "    </tr>\n",
       "    <tr>\n",
       "      <th>mean</th>\n",
       "      <td>5532.146084</td>\n",
       "      <td>10.304334</td>\n",
       "      <td>0.960175</td>\n",
       "      <td>9.899493</td>\n",
       "      <td>1.605091</td>\n",
       "      <td>10.730635</td>\n",
       "      <td>9.525366</td>\n",
       "      <td>9.408291</td>\n",
       "      <td>0.017893</td>\n",
       "      <td>1.273327</td>\n",
       "    </tr>\n",
       "    <tr>\n",
       "      <th>std</th>\n",
       "      <td>1715.076581</td>\n",
       "      <td>3.148937</td>\n",
       "      <td>0.362107</td>\n",
       "      <td>3.226399</td>\n",
       "      <td>3.689890</td>\n",
       "      <td>3.032962</td>\n",
       "      <td>3.253978</td>\n",
       "      <td>3.214560</td>\n",
       "      <td>0.183447</td>\n",
       "      <td>0.853176</td>\n",
       "    </tr>\n",
       "    <tr>\n",
       "      <th>min</th>\n",
       "      <td>485.000000</td>\n",
       "      <td>0.010000</td>\n",
       "      <td>0.010000</td>\n",
       "      <td>-1.150000</td>\n",
       "      <td>0.000014</td>\n",
       "      <td>0.720000</td>\n",
       "      <td>-1.380000</td>\n",
       "      <td>-1.490000</td>\n",
       "      <td>-2.090000</td>\n",
       "      <td>0.000000</td>\n",
       "    </tr>\n",
       "    <tr>\n",
       "      <th>25%</th>\n",
       "      <td>5078.000000</td>\n",
       "      <td>7.950000</td>\n",
       "      <td>0.807250</td>\n",
       "      <td>7.013500</td>\n",
       "      <td>0.812000</td>\n",
       "      <td>8.512500</td>\n",
       "      <td>6.664750</td>\n",
       "      <td>6.589000</td>\n",
       "      <td>-0.060000</td>\n",
       "      <td>1.000000</td>\n",
       "    </tr>\n",
       "    <tr>\n",
       "      <th>50%</th>\n",
       "      <td>5627.000000</td>\n",
       "      <td>10.471500</td>\n",
       "      <td>0.964000</td>\n",
       "      <td>10.600000</td>\n",
       "      <td>0.999000</td>\n",
       "      <td>10.810000</td>\n",
       "      <td>10.248500</td>\n",
       "      <td>10.161000</td>\n",
       "      <td>0.020000</td>\n",
       "      <td>1.000000</td>\n",
       "    </tr>\n",
       "    <tr>\n",
       "      <th>75%</th>\n",
       "      <td>5949.000000</td>\n",
       "      <td>12.543500</td>\n",
       "      <td>1.110000</td>\n",
       "      <td>12.607500</td>\n",
       "      <td>1.270000</td>\n",
       "      <td>13.010000</td>\n",
       "      <td>12.230250</td>\n",
       "      <td>12.119000</td>\n",
       "      <td>0.110000</td>\n",
       "      <td>1.000000</td>\n",
       "    </tr>\n",
       "    <tr>\n",
       "      <th>max</th>\n",
       "      <td>57000.000000</td>\n",
       "      <td>24.300000</td>\n",
       "      <td>4.500000</td>\n",
       "      <td>21.600000</td>\n",
       "      <td>83.800000</td>\n",
       "      <td>19.860000</td>\n",
       "      <td>20.800000</td>\n",
       "      <td>19.160000</td>\n",
       "      <td>0.560000</td>\n",
       "      <td>9.000000</td>\n",
       "    </tr>\n",
       "  </tbody>\n",
       "</table>\n",
       "</div>"
      ],
      "text/plain": [
       "        temperature         magV         mass         magJ       radius  \\\n",
       "count   2793.000000  1274.000000  3090.000000  1563.000000  2721.000000   \n",
       "mean    5532.146084    10.304334     0.960175     9.899493     1.605091   \n",
       "std     1715.076581     3.148937     0.362107     3.226399     3.689890   \n",
       "min      485.000000     0.010000     0.010000    -1.150000     0.000014   \n",
       "25%     5078.000000     7.950000     0.807250     7.013500     0.812000   \n",
       "50%     5627.000000    10.471500     0.964000    10.600000     0.999000   \n",
       "75%     5949.000000    12.543500     1.110000    12.607500     1.270000   \n",
       "max    57000.000000    24.300000     4.500000    21.600000    83.800000   \n",
       "\n",
       "              magB         magH         magK  metallicity      planets  \n",
       "count  1003.000000  1556.000000  1585.000000  2411.000000  3183.000000  \n",
       "mean     10.730635     9.525366     9.408291     0.017893     1.273327  \n",
       "std       3.032962     3.253978     3.214560     0.183447     0.853176  \n",
       "min       0.720000    -1.380000    -1.490000    -2.090000     0.000000  \n",
       "25%       8.512500     6.664750     6.589000    -0.060000     1.000000  \n",
       "50%      10.810000    10.248500    10.161000     0.020000     1.000000  \n",
       "75%      13.010000    12.230250    12.119000     0.110000     1.000000  \n",
       "max      19.860000    20.800000    19.160000     0.560000     9.000000  "
      ]
     },
     "execution_count": 4,
     "metadata": {},
     "output_type": "execute_result"
    }
   ],
   "source": [
    "stars.describe()"
   ]
  },
  {
   "cell_type": "code",
   "execution_count": 5,
   "id": "5a3bc95b",
   "metadata": {},
   "outputs": [
    {
     "data": {
      "text/plain": [
       "<AxesSubplot:>"
      ]
     },
     "execution_count": 5,
     "metadata": {},
     "output_type": "execute_result"
    },
    {
     "data": {
      "image/png": "[encoded data removed]",
      "text/plain": [
       "<Figure size 936x504 with 2 Axes>"
      ]
     },
     "metadata": {
      "needs_background": "light"
     },
     "output_type": "display_data"
    }
   ],
   "source": [
    "fig = plt.figure(figsize=(13, 7))\n",
    "sns.heatmap(stars.corr(), vmin=-1, vmax=1, center=0, annot=True)"
   ]
  },
  {
   "cell_type": "markdown",
   "id": "f02e56a8",
   "metadata": {},
   "source": [
    "Построение и рассчет модели"
   ]
  },
  {
   "cell_type": "code",
   "execution_count": 6,
   "id": "c01ad7b1",
   "metadata": {},
   "outputs": [
    {
     "data": {
      "text/plain": [
       "0.8802635807410467"
      ]
     },
     "execution_count": 6,
     "metadata": {},
     "output_type": "execute_result"
    }
   ],
   "source": [
    "data = stars[['metallicity', 'temperature', 'magJ', 'radius', 'magB', 'magV', 'magK', 'mass', 'planets']].dropna()\n",
    "\n",
    "y = data.pop('temperature')\n",
    "X = data\n",
    "\n",
    "X_train, X_test, y_train, y_test = train_test_split(X, y, test_size=0.25, random_state=0)\n",
    "\n",
    "lm = LinearRegression().fit(X_train, y_train)\n",
    "lm.score(X_test, y_test)"
   ]
  },
  {
   "cell_type": "code",
   "execution_count": 54,
   "id": "7f84a1cf",
   "metadata": {},
   "outputs": [
    {
     "data": {
      "text/plain": [
       "257.89448291516237"
      ]
     },
     "execution_count": 54,
     "metadata": {},
     "output_type": "execute_result"
    }
   ],
   "source": [
    "np.sqrt(mean_squared_error(y_test, lm.predict(X_test)))"
   ]
  },
  {
   "cell_type": "markdown",
   "id": "5e068240",
   "metadata": {},
   "source": [
    "Уравнение линейной регрессии"
   ]
  },
  {
   "cell_type": "code",
   "execution_count": 7,
   "id": "40698700",
   "metadata": {},
   "outputs": [
    {
     "data": {
      "text/plain": [
       "[(-4.898158363102772, 'metallicity'),\n",
       " (-990.8923592796466, 'magJ'),\n",
       " (4.462127721265688, 'radius'),\n",
       " (-327.75953675293704, 'magB'),\n",
       " (-174.9177532608752, 'magV'),\n",
       " (1526.7115565985305, 'magK'),\n",
       " (276.1534979898905, 'mass'),\n",
       " (-29.078901388578036, 'planets')]"
      ]
     },
     "execution_count": 7,
     "metadata": {},
     "output_type": "execute_result"
    }
   ],
   "source": [
    "[(coef, column) for coef, column in zip(lm.coef_, X_train.columns)]"
   ]
  },
  {
   "cell_type": "code",
   "execution_count": 8,
   "id": "6d73ec9e",
   "metadata": {},
   "outputs": [
    {
     "data": {
      "text/plain": [
       "6646.481691954724"
      ]
     },
     "execution_count": 8,
     "metadata": {},
     "output_type": "execute_result"
    }
   ],
   "source": [
    "lm.intercept_"
   ]
  },
  {
   "cell_type": "markdown",
   "id": "8e26881c",
   "metadata": {},
   "source": [
    "Визуализация"
   ]
  },
  {
   "cell_type": "code",
   "execution_count": 9,
   "id": "cc050d5d",
   "metadata": {},
   "outputs": [
    {
     "data": {
      "text/plain": [
       "array([<AxesSubplot:xlabel='Observation', ylabel='Residual'>,\n",
       "       <AxesSubplot:xlabel='Residual', ylabel='Density'>], dtype=object)"
      ]
     },
     "execution_count": 9,
     "metadata": {},
     "output_type": "execute_result"
    },
    {
     "data": {
      "image/png": "[encoded data removed]",
      "text/plain": [
       "<Figure size 1080x216 with 2 Axes>"
      ]
     },
     "metadata": {
      "needs_background": "light"
     },
     "output_type": "display_data"
    }
   ],
   "source": [
    "plot_residuals(y_test, lm.predict(X_test))"
   ]
  },
  {
   "cell_type": "code",
   "execution_count": null,
   "id": "9d9f1abc",
   "metadata": {},
   "outputs": [],
   "source": []
  }
 ],
 "metadata": {
  "kernelspec": {
   "display_name": "Python 3 (ipykernel)",
   "language": "python",
   "name": "python3"
  },
  "language_info": {
   "codemirror_mode": {
    "name": "ipython",
    "version": 3
   },
   "file_extension": ".py",
   "mimetype": "text/x-python",
   "name": "python",
   "nbconvert_exporter": "python",
   "pygments_lexer": "ipython3",
   "version": "3.8.13"
  }
 },
 "nbformat": 4,
 "nbformat_minor": 5
}
